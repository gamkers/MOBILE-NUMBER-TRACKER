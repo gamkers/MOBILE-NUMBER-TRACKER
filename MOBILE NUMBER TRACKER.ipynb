{
 "cells": [
  {
   "cell_type": "code",
   "execution_count": 5,
   "id": "e229935c",
   "metadata": {},
   "outputs": [
    {
     "name": "stdout",
     "output_type": "stream",
     "text": [
      "ENTER THE MOBILE NUMBER: 2224943764\n",
      "collecting data\n",
      "MATCH FOUND\n",
      "Country : India (Republic of)\n",
      "Location : Mumbai\n",
      "Carrier : \n"
     ]
    }
   ],
   "source": [
    "import requests\n",
    "my_string =input(\"ENTER THE MOBILE NUMBER: \")\n",
    "phonenum = (\"91\" + my_string.replace(\" \", \"\"))\n",
    "url = (\"http://apilayer.net/api/validate?access_key=cd3af5f7d1897dc1707c47d05c3759fd&number=\" + phonenum)\n",
    "resp = requests.get(url)\n",
    "details = resp.json()\n",
    "\n",
    "print(\"collecting data\")\n",
    "print('MATCH FOUND')\n",
    "print(\"Country : \" + details['country_name'])\n",
    "\n",
    "print(\"Location : \" + details['location'])\n",
    "\n",
    "print(\"Carrier : \" + details['carrier'])\n"
   ]
  },
  {
   "cell_type": "code",
   "execution_count": null,
   "id": "c901db91",
   "metadata": {},
   "outputs": [],
   "source": []
  }
 ],
 "metadata": {
  "kernelspec": {
   "display_name": "Python 3",
   "language": "python",
   "name": "python3"
  },
  "language_info": {
   "codemirror_mode": {
    "name": "ipython",
    "version": 3
   },
   "file_extension": ".py",
   "mimetype": "text/x-python",
   "name": "python",
   "nbconvert_exporter": "python",
   "pygments_lexer": "ipython3",
   "version": "3.8.8"
  }
 },
 "nbformat": 4,
 "nbformat_minor": 5
}
